{
 "cells": [
  {
   "cell_type": "code",
   "execution_count": null,
   "metadata": {},
   "outputs": [],
   "source": [
    "import os\n",
    "from nbconvert import PythonExporter\n",
    "\n",
    "# Defining path for running\n",
    "notebook_folder = r'____'\n",
    "\n",
    "# List of specific notebook files to run\n",
    "specific_notebooks = [\n",
    "    '_DB_CONNECTOR.ipynb',\n",
    "    '_Example_CALLING_DB.ipynb',\n",
    "    '____',\n",
    "    '____',\n",
    "    '____',\n",
    "    '____',\n",
    "]\n",
    "\n",
    "# Executing specific notebook files\n",
    "for notebook_file in specific_notebooks:\n",
    "    try:\n",
    "        notebook_path = os.path.join(notebook_folder, notebook_file)\n",
    "        print(f\"Running notebook: {notebook_path}\")\n",
    "\n",
    "        # Converting .ipynb to .py\n",
    "        python_exporter = PythonExporter()\n",
    "        python_code, _ = python_exporter.from_filename(notebook_path)\n",
    "\n",
    "        # Saving result to .py\n",
    "        python_file = os.path.splitext(notebook_path)[0] + '.py'\n",
    "        with open(python_file, 'w') as f:\n",
    "            f.write(python_code)\n",
    "\n",
    "        # Executing python files\n",
    "        os.system(f\"python {python_file}\")\n",
    "\n",
    "    except Exception as e:\n",
    "        print(f\"Error running notebook {notebook_path}: {e}\")\n"
   ]
  }
 ],
 "metadata": {
  "kernelspec": {
   "display_name": "venv",
   "language": "python",
   "name": "python3"
  },
  "language_info": {
   "codemirror_mode": {
    "name": "ipython",
    "version": 3
   },
   "file_extension": ".py",
   "mimetype": "text/x-python",
   "name": "python",
   "nbconvert_exporter": "python",
   "pygments_lexer": "ipython3",
   "version": "3.11.7"
  }
 },
 "nbformat": 4,
 "nbformat_minor": 2
}
